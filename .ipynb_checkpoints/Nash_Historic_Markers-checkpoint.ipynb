{
 "cells": [
  {
   "cell_type": "code",
   "execution_count": 1,
   "metadata": {},
   "outputs": [],
   "source": [
    "from shapely.geometry import Point\n",
    "import pandas as pd\n",
    "import geopandas as gpd\n",
    "import matplotlib.pyplot as plt\n",
    "import folium\n",
    "from folium import plugins\n"
   ]
  },
  {
   "cell_type": "code",
   "execution_count": 2,
   "metadata": {
    "scrolled": true
   },
   "outputs": [
    {
     "data": {
      "text/html": [
       "<div>\n",
       "<style scoped>\n",
       "    .dataframe tbody tr th:only-of-type {\n",
       "        vertical-align: middle;\n",
       "    }\n",
       "\n",
       "    .dataframe tbody tr th {\n",
       "        vertical-align: top;\n",
       "    }\n",
       "\n",
       "    .dataframe thead th {\n",
       "        text-align: right;\n",
       "    }\n",
       "</style>\n",
       "<table border=\"1\" class=\"dataframe\">\n",
       "  <thead>\n",
       "    <tr style=\"text-align: right;\">\n",
       "      <th></th>\n",
       "      <th>name</th>\n",
       "      <th>geometry</th>\n",
       "    </tr>\n",
       "  </thead>\n",
       "  <tbody>\n",
       "    <tr>\n",
       "      <th>0</th>\n",
       "      <td>Historic Buena Vista</td>\n",
       "      <td>(POLYGON ((-86.79511056795417 36.1757596496334...</td>\n",
       "    </tr>\n",
       "    <tr>\n",
       "      <th>1</th>\n",
       "      <td>Charlotte Park</td>\n",
       "      <td>(POLYGON ((-86.87459668651866 36.1575770268129...</td>\n",
       "    </tr>\n",
       "    <tr>\n",
       "      <th>2</th>\n",
       "      <td>Hillwood</td>\n",
       "      <td>(POLYGON ((-86.87613708067906 36.1355409894979...</td>\n",
       "    </tr>\n",
       "    <tr>\n",
       "      <th>3</th>\n",
       "      <td>West Meade</td>\n",
       "      <td>(POLYGON ((-86.9038380396094 36.1255414807897,...</td>\n",
       "    </tr>\n",
       "    <tr>\n",
       "      <th>4</th>\n",
       "      <td>White Bridge</td>\n",
       "      <td>(POLYGON ((-86.86321427797685 36.1288622289404...</td>\n",
       "    </tr>\n",
       "    <tr>\n",
       "      <th>5</th>\n",
       "      <td>East Hill</td>\n",
       "      <td>(POLYGON ((-86.74659463915211 36.2037569707582...</td>\n",
       "    </tr>\n",
       "  </tbody>\n",
       "</table>\n",
       "</div>"
      ],
      "text/plain": [
       "                   name                                           geometry\n",
       "0  Historic Buena Vista  (POLYGON ((-86.79511056795417 36.1757596496334...\n",
       "1        Charlotte Park  (POLYGON ((-86.87459668651866 36.1575770268129...\n",
       "2              Hillwood  (POLYGON ((-86.87613708067906 36.1355409894979...\n",
       "3            West Meade  (POLYGON ((-86.9038380396094 36.1255414807897,...\n",
       "4          White Bridge  (POLYGON ((-86.86321427797685 36.1288622289404...\n",
       "5             East Hill  (POLYGON ((-86.74659463915211 36.2037569707582..."
      ]
     },
     "execution_count": 2,
     "metadata": {},
     "output_type": "execute_result"
    }
   ],
   "source": [
    "neighborhoods = gpd.read_file('./data/Neighborhood Association Boundaries (GIS).geojson')\n",
    "neighborhoods.head(6)"
   ]
  },
  {
   "cell_type": "code",
   "execution_count": 3,
   "metadata": {},
   "outputs": [
    {
     "data": {
      "image/svg+xml": [
       "<svg xmlns=\"http://www.w3.org/2000/svg\" xmlns:xlink=\"http://www.w3.org/1999/xlink\" width=\"100.0\" height=\"100.0\" viewBox=\"-86.750290453936 36.195835883839315 0.010747310729954052 0.008319135464446958\" preserveAspectRatio=\"xMinYMin meet\"><g transform=\"matrix(1,0,0,-1,0,72.39999090314308)\"><g><path fill-rule=\"evenodd\" fill=\"#66cc99\" stroke=\"#555555\" stroke-width=\"0.00021494621459908103\" opacity=\"0.6\" d=\"M -86.74659463915211,36.20375697075821 L -86.74558858219612,36.20340500340651 L -86.7449120309109,36.203171674975046 L -86.74411148864459,36.202893322542835 L -86.74405062397352,36.20317984740763 L -86.74390531198193,36.203120651087715 L -86.74381757091807,36.20355327756962 L -86.74348918234048,36.203549576834185 L -86.74322030293045,36.203491140449806 L -86.74298354604105,36.20346970601239 L -86.74300594775289,36.203330789312 L -86.74275927739589,36.20327364208337 L -86.74199145221425,36.203095227071955 L -86.74084140548166,36.20281900013855 L -86.7399411917516,36.20260241639737 L -86.74014921924379,36.20223028925031 L -86.74019069235536,36.20209817706318 L -86.74043824890356,36.201603840996384 L -86.74063206853133,36.201670778849035 L -86.74082041249136,36.201296575391 L -86.7408795440204,36.20116820084005 L -86.74068571024787,36.20109961732424 L -86.74086774124397,36.2007754467415 L -86.74098403456735,36.200815938735154 L -86.74121063605313,36.200401392908105 L -86.74129337933553,36.20027347693664 L -86.74175127480882,36.20044202612363 L -86.74197517990682,36.2000296934524 L -86.74137328920372,36.199817472907625 L -86.74150390813638,36.199577678232075 L -86.7413277521485,36.19951447941195 L -86.74145770847906,36.199276337491916 L -86.7415476778001,36.199151161521065 L -86.74197862610356,36.19931104656192 L -86.74223980582708,36.19882596225033 L -86.74188956067997,36.19870284960014 L -86.74212608701998,36.19826351806604 L -86.74221445846993,36.19814540105842 L -86.7426698584189,36.19726464665033 L -86.74273036513799,36.197139009260056 L -86.74257870711435,36.19708555050011 L -86.7430309813443,36.19623393238487 L -86.74376066043315,36.196486562608285 L -86.74576676338701,36.19717992550151 L -86.74653529428244,36.19745178216963 L -86.7478465065528,36.19791148937727 L -86.74897546132128,36.19830693348098 L -86.74912524128146,36.19830435564718 L -86.74989240539045,36.19857429814716 L -86.74917321209968,36.199723182283385 L -86.74873251468567,36.200431902954406 L -86.74865502718588,36.20055325319914 L -86.74823919723114,36.20120053858847 L -86.74800092575907,36.20156382280985 L -86.74738612769718,36.20253870785889 L -86.74659463915211,36.20375697075821 z\" /></g></g></svg>"
      ],
      "text/plain": [
       "<shapely.geometry.multipolygon.MultiPolygon at 0x1aa774d4198>"
      ]
     },
     "execution_count": 3,
     "metadata": {},
     "output_type": "execute_result"
    }
   ],
   "source": [
    "neighborhoods.loc[5,'geometry']"
   ]
  },
  {
   "cell_type": "code",
   "execution_count": 4,
   "metadata": {},
   "outputs": [
    {
     "name": "stdout",
     "output_type": "stream",
     "text": [
      "MULTIPOLYGON (((-86.74659463915211 36.20375697075821, -86.74558858219612 36.20340500340651, -86.7449120309109 36.20317167497505, -86.74411148864459 36.20289332254283, -86.74405062397352 36.20317984740763, -86.74390531198193 36.20312065108772, -86.74381757091807 36.20355327756962, -86.74348918234048 36.20354957683418, -86.74322030293045 36.20349114044981, -86.74298354604105 36.20346970601239, -86.74300594775289 36.203330789312, -86.74275927739589 36.20327364208337, -86.74199145221425 36.20309522707196, -86.74084140548166 36.20281900013855, -86.7399411917516 36.20260241639737, -86.74014921924379 36.20223028925031, -86.74019069235536 36.20209817706318, -86.74043824890356 36.20160384099638, -86.74063206853133 36.20167077884904, -86.74082041249136 36.201296575391, -86.7408795440204 36.20116820084005, -86.74068571024787 36.20109961732424, -86.74086774124397 36.2007754467415, -86.74098403456735 36.20081593873515, -86.74121063605313 36.20040139290811, -86.74129337933553 36.20027347693664, -86.74175127480882 36.20044202612363, -86.74197517990682 36.2000296934524, -86.74137328920372 36.19981747290763, -86.74150390813638 36.19957767823207, -86.74132775214851 36.19951447941195, -86.74145770847906 36.19927633749192, -86.7415476778001 36.19915116152107, -86.74197862610356 36.19931104656192, -86.74223980582708 36.19882596225033, -86.74188956067997 36.19870284960014, -86.74212608701998 36.19826351806604, -86.74221445846993 36.19814540105842, -86.74266985841891 36.19726464665033, -86.74273036513799 36.19713900926006, -86.74257870711435 36.19708555050011, -86.7430309813443 36.19623393238487, -86.74376066043315 36.19648656260829, -86.74576676338701 36.19717992550151, -86.74653529428244 36.19745178216963, -86.7478465065528 36.19791148937727, -86.74897546132128 36.19830693348098, -86.74912524128146 36.19830435564718, -86.74989240539045 36.19857429814716, -86.74917321209968 36.19972318228339, -86.74873251468567 36.20043190295441, -86.74865502718588 36.20055325319914, -86.74823919723114 36.20120053858847, -86.74800092575907 36.20156382280985, -86.74738612769718 36.20253870785889, -86.74659463915211 36.20375697075821)))\n"
     ]
    }
   ],
   "source": [
    "print(neighborhoods.loc[5,'geometry'])"
   ]
  },
  {
   "cell_type": "code",
   "execution_count": null,
   "metadata": {},
   "outputs": [],
   "source": [
    "leg_kwds = {'title': 'Neighborhoods', 'loc': 'upper left', 'bbox_to_anchor': (1, 1.03), 'ncol': 6}\n",
    "neighborhoods.plot(column = 'name', figsize=(12, 12), legend = True, legend_kwds = leg_kwds )\n",
    "plt.show()"
   ]
  },
  {
   "cell_type": "code",
   "execution_count": null,
   "metadata": {
    "scrolled": true
   },
   "outputs": [],
   "source": [
    "history = pd.read_csv('C:/Users/brand/Desktop/NSS-projects/Historic_Markers.csv')\n",
    "history.head(10)"
   ]
  },
  {
   "cell_type": "code",
   "execution_count": null,
   "metadata": {},
   "outputs": [],
   "source": [
    "history.columns=['number', 'date_erected', 'marker_title', 'marker_text', 'civil_war_site', 'additional_notes', 'location_address', 'lat', 'lng', 'mapped_location']"
   ]
  },
  {
   "cell_type": "code",
   "execution_count": null,
   "metadata": {},
   "outputs": [],
   "source": [
    "history.head()"
   ]
  },
  {
   "cell_type": "code",
   "execution_count": null,
   "metadata": {},
   "outputs": [],
   "source": [
    "history['geometry'] = history.apply(lambda x: Point((float(x.lng), float(x.lat))), axis=1)\n",
    "history.head(6)"
   ]
  },
  {
   "cell_type": "code",
   "execution_count": null,
   "metadata": {},
   "outputs": [],
   "source": [
    "history_geo = gpd.GeoDataFrame(history, crs = neighborhoods.crs, geometry = history['geometry'])\n",
    "history.head()"
   ]
  },
  {
   "cell_type": "code",
   "execution_count": null,
   "metadata": {},
   "outputs": [],
   "source": [
    "neighborhood_history = gpd.sjoin(history_geo, neighborhoods, op = \"within\")"
   ]
  },
  {
   "cell_type": "code",
   "execution_count": null,
   "metadata": {},
   "outputs": [],
   "source": [
    "neighborhood_history.head()"
   ]
  },
  {
   "cell_type": "code",
   "execution_count": null,
   "metadata": {},
   "outputs": [],
   "source": [
    "neighborhood_history[['name', 'marker_title']].groupby('name').agg('count').sort_values(by ='marker_title', ascending = False)"
   ]
  },
  {
   "cell_type": "code",
   "execution_count": null,
   "metadata": {},
   "outputs": [],
   "source": [
    "Nash_history = neighborhood_history.iloc[1:171]\n",
    "Nash_history.head(20)"
   ]
  },
  {
   "cell_type": "code",
   "execution_count": null,
   "metadata": {},
   "outputs": [],
   "source": [
    "Nash_polygon = neighborhoods.iloc[1:171]\n",
    "Nash_polygon.head() "
   ]
  },
  {
   "cell_type": "code",
   "execution_count": null,
   "metadata": {},
   "outputs": [],
   "source": [
    "ax = Nash_polygon.plot(figsize = (12, 12), color = 'lightgreen')\n",
    "Nash_history.plot( ax = ax, column = 'marker_title', legend = True);\n",
    "plt.show();"
   ]
  },
  {
   "cell_type": "code",
   "execution_count": null,
   "metadata": {},
   "outputs": [],
   "source": [
    "Nash_polygon.geometry.centroid"
   ]
  },
  {
   "cell_type": "code",
   "execution_count": null,
   "metadata": {},
   "outputs": [],
   "source": [
    "center = Nash_polygon.geometry.centroid\n"
   ]
  },
  {
   "cell_type": "code",
   "execution_count": null,
   "metadata": {},
   "outputs": [],
   "source": [
    "center_point = center.iloc[0]\n",
    "\n",
    "print('center is :', type(center))\n",
    "print('center_point is :', type(center_point))"
   ]
  },
  {
   "cell_type": "code",
   "execution_count": null,
   "metadata": {},
   "outputs": [],
   "source": [
    "print(center_point)\n"
   ]
  },
  {
   "cell_type": "code",
   "execution_count": null,
   "metadata": {},
   "outputs": [],
   "source": [
    "Nash_center = [center_point.y, center_point.x]\n"
   ]
  },
  {
   "cell_type": "code",
   "execution_count": null,
   "metadata": {},
   "outputs": [],
   "source": [
    "print(Nash_center)"
   ]
  },
  {
   "cell_type": "code",
   "execution_count": null,
   "metadata": {},
   "outputs": [],
   "source": [
    "map_downtown = folium.Map(tiles='CartoDB positron', location =  Nash_center, zoom_start = 15)\n",
    "\n",
    "map_downtown"
   ]
  },
  {
   "cell_type": "code",
   "execution_count": null,
   "metadata": {},
   "outputs": [],
   "source": [
    "for row in Nash_history.iterrows():\n",
    "    row_values = row[1]\n",
    "    print(row_values)"
   ]
  },
  {
   "cell_type": "code",
   "execution_count": null,
   "metadata": {},
   "outputs": [],
   "source": [
    "folium.GeoJson(Nash_polygon).add_to(map_downtown)\n"
   ]
  },
  {
   "cell_type": "code",
   "execution_count": null,
   "metadata": {},
   "outputs": [],
   "source": [
    "for row in Nash_history.iterrows():\n",
    "    row_values = row[1] \n",
    "    location = [row_values['lat'], row_values['lng']]\n",
    "    popup = (str(row_values['marker_title']) + ': ' + \n",
    "             str(row_values['marker_text']) + '<br/>' +\n",
    "             str(row_values['additional_notes'])).replace(\"'\", \"`\")\n",
    "    marker = folium.Marker(location = location, popup = popup)\n",
    "    \n",
    "    marker.add_to(map_downtown)"
   ]
  },
  {
   "cell_type": "code",
   "execution_count": null,
   "metadata": {},
   "outputs": [],
   "source": [
    "map_downtown"
   ]
  },
  {
   "cell_type": "code",
   "execution_count": null,
   "metadata": {},
   "outputs": [],
   "source": []
  }
 ],
 "metadata": {
  "kernelspec": {
   "display_name": "Python 3",
   "language": "python",
   "name": "python3"
  },
  "language_info": {
   "codemirror_mode": {
    "name": "ipython",
    "version": 3
   },
   "file_extension": ".py",
   "mimetype": "text/x-python",
   "name": "python",
   "nbconvert_exporter": "python",
   "pygments_lexer": "ipython3",
   "version": "3.6.5"
  }
 },
 "nbformat": 4,
 "nbformat_minor": 2
}
